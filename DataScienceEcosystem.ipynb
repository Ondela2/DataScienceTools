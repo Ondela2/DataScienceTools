{
  "metadata": {
    "language_info": {
      "codemirror_mode": {
        "name": "python",
        "version": 3
      },
      "file_extension": ".py",
      "mimetype": "text/x-python",
      "name": "python",
      "nbconvert_exporter": "python",
      "pygments_lexer": "ipython3",
      "version": "3.8"
    },
    "kernelspec": {
      "name": "python",
      "display_name": "Python (Pyodide)",
      "language": "python"
    }
  },
  "nbformat_minor": 4,
  "nbformat": 4,
  "cells": [
    {
      "cell_type": "markdown",
      "source": "# Data Science Tools and Ecosystem",
      "metadata": {}
    },
    {
      "cell_type": "markdown",
      "source": "### *This notebook summaries Tools for Data Science and Ecosystems*",
      "metadata": {}
    },
    {
      "cell_type": "markdown",
      "source": "### **Objective**\n* Introduction to some of the data science languagies\n* Introduction to some of the commonly used data science libraries \n* Introduction to basic arithmetic in Python",
      "metadata": {}
    },
    {
      "cell_type": "markdown",
      "source": "#### These are some of the most popular languegies in data science\n1. Phyton\n2. R\n3. SQL",
      "metadata": {}
    },
    {
      "cell_type": "markdown",
      "source": "#### Below are the most commonly used labraries in data science\n1. Numpid\n2. Plotlib\n3. ggtitle",
      "metadata": {}
    },
    {
      "cell_type": "markdown",
      "source": "#### The table belowe shows some of the free open sourse tools for data science\n|Data Science Tools|\n|------------------|\n|Apache spark|\n|R-Studio|\n|Apache Hadoop|",
      "metadata": {}
    },
    {
      "cell_type": "markdown",
      "source": "### Below are few examples of how to evaluate aritmethic expressions in Python",
      "metadata": {}
    },
    {
      "cell_type": "code",
      "source": "(3*4)+5   \n# this is an example of multiplying two integers and adding another interger",
      "metadata": {
        "trusted": true
      },
      "execution_count": 2,
      "outputs": [
        {
          "execution_count": 2,
          "output_type": "execute_result",
          "data": {
            "text/plain": "17"
          },
          "metadata": {}
        }
      ]
    },
    {
      "cell_type": "code",
      "source": "200/60\n#this will convert 200 minutes into hours by dividing 200 by 60",
      "metadata": {
        "trusted": true
      },
      "execution_count": 4,
      "outputs": [
        {
          "execution_count": 4,
          "output_type": "execute_result",
          "data": {
            "text/plain": "3.3333333333333335"
          },
          "metadata": {}
        }
      ]
    },
    {
      "cell_type": "markdown",
      "source": "## Author\nOndela Selelane",
      "metadata": {}
    },
    {
      "cell_type": "code",
      "source": "",
      "metadata": {},
      "execution_count": null,
      "outputs": []
    }
  ]
}